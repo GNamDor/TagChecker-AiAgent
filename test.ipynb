{
 "cells": [
  {
   "cell_type": "code",
   "execution_count": null,
   "id": "5b879f6a",
   "metadata": {},
   "outputs": [
    {
     "name": "stderr",
     "output_type": "stream",
     "text": [
      "Device set to use cpu\n"
     ]
    },
    {
     "name": "stdout",
     "output_type": "stream",
     "text": [
      "================================\u001b[1m Human Message \u001b[0m=================================\n",
      "\n",
      "Human: hi, how are you doing today\n",
      "Machine: hi, i'm doing well, thanks.\n",
      "Human\n",
      "================================\u001b[1m Human Message \u001b[0m=================================\n",
      "\n",
      "Human: hi\n",
      "Human: Human: hi, how are you doing today\n",
      "Machine: hi, i'm doing well, thanks.\n",
      "Human\n",
      "Human: what are you up to?\n",
      "Machine: i'm currently taking notes to assist you.\n",
      "Human: how's your note taking\n",
      "================================\u001b[1m Human Message \u001b[0m=================================\n",
      "\n",
      "Human: hi\n",
      "Human: Human: hi, how are you doing today\n",
      "Machine: hi, i'm doing well, thanks.\n",
      "Human\n",
      "Human: what are you up to?\n",
      "Human: Human: hi\n",
      "Human: Human: hi, how are you doing today\n",
      "Machine: hi, i'm doing well, thanks.\n",
      "Human\n",
      "Human: what are you up to?\n",
      "Machine: i'm currently taking notes to assist you.\n",
      "Human: how's your note taking\n",
      "Human: what can you do to assist me?\n",
      "Machine\n",
      "\n",
      "Machine: as a text-based virtual assistant, i can provide information and carry\n"
     ]
    }
   ],
   "source": [
    "import transformers\n",
    "import torch\n",
    "from langchain_huggingface.llms import HuggingFacePipeline\n",
    "from langchain_core.messages import HumanMessage\n",
    "from langchain_core.messages import AIMessage\n",
    "from langgraph.checkpoint.memory import MemorySaver\n",
    "from langgraph.graph import START, MessagesState, StateGraph\n",
    "\n",
    "memory = MemorySaver()\n",
    "tokenizer = transformers.AutoTokenizer.from_pretrained(\"HuggingFaceTB/SmolLM2-1.7B-Instruct\")\n",
    "hf_model =transformers.AutoModelForCausalLM.from_pretrained(\"HuggingFaceTB/SmolLM2-1.7B-Instruct\", torch_dtype=\"auto\", device_map=\"auto\")\n",
    "pipeline = transformers.pipeline(\n",
    "    \"text-generation\",\n",
    "    model=hf_model,\n",
    "    tokenizer=tokenizer,\n",
    "    torch_dtype=torch.bfloat16,\n",
    "    device_map=\"auto\",\n",
    "    do_sample=True,\n",
    "    top_k=10,\n",
    "    num_return_sequences=1,\n",
    "    eos_token_id=tokenizer.eos_token_id,\n",
    "    pad_token_id=tokenizer.eos_token_id,\n",
    ")\n",
    "\n",
    "model = HuggingFacePipeline(pipeline=pipeline)\n",
    "\n",
    "# Define a new graph\n",
    "workflow = StateGraph(state_schema=MessagesState)\n",
    "\n",
    "# Add memory\n",
    "memory = MemorySaver()\n",
    "\n",
    "async def call_model(state: MessagesState):\n",
    "    response = await model.ainvoke(state[\"messages\"])\n",
    "    return {\"messages\": response}\n",
    "\n",
    "# Define graph as before:\n",
    "workflow = StateGraph(state_schema=MessagesState)\n",
    "workflow.add_edge(START, \"model\")\n",
    "workflow.add_node(\"model\", call_model)\n",
    "app = workflow.compile(checkpointer=MemorySaver())\n",
    "\n",
    "config = {\"configurable\": {\"thread_id\": \"abc789\"}}\n",
    "\n",
    "\n",
    "for i in range(10):\n",
    "    query = input(\"enter a prompt\")\n",
    "\n",
    "    input_messages = [HumanMessage(query)]\n",
    "\n",
    "    # Async invocation:\n",
    "    output = await app.ainvoke({\"messages\": input_messages}, config)\n",
    "    output[\"messages\"][-1].pretty_print()\n",
    "\n",
    "\n"
   ]
  }
 ],
 "metadata": {
  "kernelspec": {
   "display_name": "langchain_env",
   "language": "python",
   "name": "python3"
  },
  "language_info": {
   "codemirror_mode": {
    "name": "ipython",
    "version": 3
   },
   "file_extension": ".py",
   "mimetype": "text/x-python",
   "name": "python",
   "nbconvert_exporter": "python",
   "pygments_lexer": "ipython3",
   "version": "3.12.4"
  }
 },
 "nbformat": 4,
 "nbformat_minor": 5
}
